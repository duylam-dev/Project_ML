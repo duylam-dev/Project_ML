{
 "cells": [
  {
   "cell_type": "code",
   "id": "91de5f6a",
   "metadata": {
    "ExecuteTime": {
     "end_time": "2024-12-17T14:06:41.958399Z",
     "start_time": "2024-12-17T14:06:41.950354Z"
    }
   },
   "source": "import pandas as pd",
   "outputs": [],
   "execution_count": 2
  },
  {
   "cell_type": "code",
   "id": "927a6493",
   "metadata": {
    "ExecuteTime": {
     "end_time": "2024-12-17T14:07:56.283646Z",
     "start_time": "2024-12-17T14:07:56.104937Z"
    }
   },
   "source": "raw_mail_data = pd.read_csv(\"../dataset/mail_data.csv\")",
   "outputs": [],
   "execution_count": 7
  },
  {
   "cell_type": "code",
   "id": "ae71f8dc",
   "metadata": {
    "ExecuteTime": {
     "end_time": "2024-12-17T14:07:59.853096Z",
     "start_time": "2024-12-17T14:07:59.822092Z"
    }
   },
   "source": [
    "raw_mail_data.head()"
   ],
   "outputs": [
    {
     "data": {
      "text/plain": [
       "  Category                                            Message\n",
       "0      ham  Go until jurong point, crazy.. Available only ...\n",
       "1      ham                      Ok lar... Joking wif u oni...\n",
       "2     spam  Free entry in 2 a wkly comp to win FA Cup fina...\n",
       "3      ham  U dun say so early hor... U c already then say...\n",
       "4      ham  Nah I don't think he goes to usf, he lives aro..."
      ],
      "text/html": [
       "<div>\n",
       "<style scoped>\n",
       "    .dataframe tbody tr th:only-of-type {\n",
       "        vertical-align: middle;\n",
       "    }\n",
       "\n",
       "    .dataframe tbody tr th {\n",
       "        vertical-align: top;\n",
       "    }\n",
       "\n",
       "    .dataframe thead th {\n",
       "        text-align: right;\n",
       "    }\n",
       "</style>\n",
       "<table border=\"1\" class=\"dataframe\">\n",
       "  <thead>\n",
       "    <tr style=\"text-align: right;\">\n",
       "      <th></th>\n",
       "      <th>Category</th>\n",
       "      <th>Message</th>\n",
       "    </tr>\n",
       "  </thead>\n",
       "  <tbody>\n",
       "    <tr>\n",
       "      <th>0</th>\n",
       "      <td>ham</td>\n",
       "      <td>Go until jurong point, crazy.. Available only ...</td>\n",
       "    </tr>\n",
       "    <tr>\n",
       "      <th>1</th>\n",
       "      <td>ham</td>\n",
       "      <td>Ok lar... Joking wif u oni...</td>\n",
       "    </tr>\n",
       "    <tr>\n",
       "      <th>2</th>\n",
       "      <td>spam</td>\n",
       "      <td>Free entry in 2 a wkly comp to win FA Cup fina...</td>\n",
       "    </tr>\n",
       "    <tr>\n",
       "      <th>3</th>\n",
       "      <td>ham</td>\n",
       "      <td>U dun say so early hor... U c already then say...</td>\n",
       "    </tr>\n",
       "    <tr>\n",
       "      <th>4</th>\n",
       "      <td>ham</td>\n",
       "      <td>Nah I don't think he goes to usf, he lives aro...</td>\n",
       "    </tr>\n",
       "  </tbody>\n",
       "</table>\n",
       "</div>"
      ]
     },
     "execution_count": 8,
     "metadata": {},
     "output_type": "execute_result"
    }
   ],
   "execution_count": 8
  },
  {
   "cell_type": "code",
   "id": "8b505d44",
   "metadata": {
    "ExecuteTime": {
     "end_time": "2024-12-17T14:08:05.129002Z",
     "start_time": "2024-12-17T14:08:05.109594Z"
    }
   },
   "source": [
    "raw_mail_data.isnull().sum()"
   ],
   "outputs": [
    {
     "data": {
      "text/plain": [
       "Category    0\n",
       "Message     0\n",
       "dtype: int64"
      ]
     },
     "execution_count": 9,
     "metadata": {},
     "output_type": "execute_result"
    }
   ],
   "execution_count": 9
  },
  {
   "cell_type": "code",
   "id": "e1e18caa",
   "metadata": {
    "ExecuteTime": {
     "end_time": "2024-12-17T14:08:08.249721Z",
     "start_time": "2024-12-17T14:08:08.237867Z"
    }
   },
   "source": [
    "df = raw_mail_data.where((pd.notnull(raw_mail_data)), '')"
   ],
   "outputs": [],
   "execution_count": 10
  },
  {
   "cell_type": "code",
   "id": "122604a3",
   "metadata": {
    "ExecuteTime": {
     "end_time": "2024-12-17T14:08:11.037635Z",
     "start_time": "2024-12-17T14:08:11.024616Z"
    }
   },
   "source": [
    "df.isnull().sum()"
   ],
   "outputs": [
    {
     "data": {
      "text/plain": [
       "Category    0\n",
       "Message     0\n",
       "dtype: int64"
      ]
     },
     "execution_count": 11,
     "metadata": {},
     "output_type": "execute_result"
    }
   ],
   "execution_count": 11
  },
  {
   "cell_type": "code",
   "id": "06e1b96e",
   "metadata": {
    "ExecuteTime": {
     "end_time": "2024-12-17T14:08:13.576331Z",
     "start_time": "2024-12-17T14:08:13.556555Z"
    }
   },
   "source": [
    "df.shape"
   ],
   "outputs": [
    {
     "data": {
      "text/plain": [
       "(5572, 2)"
      ]
     },
     "execution_count": 12,
     "metadata": {},
     "output_type": "execute_result"
    }
   ],
   "execution_count": 12
  },
  {
   "cell_type": "code",
   "id": "77236b62",
   "metadata": {
    "ExecuteTime": {
     "end_time": "2024-12-17T14:08:16.095169Z",
     "start_time": "2024-12-17T14:08:16.080520Z"
    }
   },
   "source": [
    "df.head()"
   ],
   "outputs": [
    {
     "data": {
      "text/plain": [
       "  Category                                            Message\n",
       "0      ham  Go until jurong point, crazy.. Available only ...\n",
       "1      ham                      Ok lar... Joking wif u oni...\n",
       "2     spam  Free entry in 2 a wkly comp to win FA Cup fina...\n",
       "3      ham  U dun say so early hor... U c already then say...\n",
       "4      ham  Nah I don't think he goes to usf, he lives aro..."
      ],
      "text/html": [
       "<div>\n",
       "<style scoped>\n",
       "    .dataframe tbody tr th:only-of-type {\n",
       "        vertical-align: middle;\n",
       "    }\n",
       "\n",
       "    .dataframe tbody tr th {\n",
       "        vertical-align: top;\n",
       "    }\n",
       "\n",
       "    .dataframe thead th {\n",
       "        text-align: right;\n",
       "    }\n",
       "</style>\n",
       "<table border=\"1\" class=\"dataframe\">\n",
       "  <thead>\n",
       "    <tr style=\"text-align: right;\">\n",
       "      <th></th>\n",
       "      <th>Category</th>\n",
       "      <th>Message</th>\n",
       "    </tr>\n",
       "  </thead>\n",
       "  <tbody>\n",
       "    <tr>\n",
       "      <th>0</th>\n",
       "      <td>ham</td>\n",
       "      <td>Go until jurong point, crazy.. Available only ...</td>\n",
       "    </tr>\n",
       "    <tr>\n",
       "      <th>1</th>\n",
       "      <td>ham</td>\n",
       "      <td>Ok lar... Joking wif u oni...</td>\n",
       "    </tr>\n",
       "    <tr>\n",
       "      <th>2</th>\n",
       "      <td>spam</td>\n",
       "      <td>Free entry in 2 a wkly comp to win FA Cup fina...</td>\n",
       "    </tr>\n",
       "    <tr>\n",
       "      <th>3</th>\n",
       "      <td>ham</td>\n",
       "      <td>U dun say so early hor... U c already then say...</td>\n",
       "    </tr>\n",
       "    <tr>\n",
       "      <th>4</th>\n",
       "      <td>ham</td>\n",
       "      <td>Nah I don't think he goes to usf, he lives aro...</td>\n",
       "    </tr>\n",
       "  </tbody>\n",
       "</table>\n",
       "</div>"
      ]
     },
     "execution_count": 13,
     "metadata": {},
     "output_type": "execute_result"
    }
   ],
   "execution_count": 13
  },
  {
   "cell_type": "code",
   "id": "111524dc",
   "metadata": {
    "ExecuteTime": {
     "end_time": "2024-12-17T14:08:18.684433Z",
     "start_time": "2024-12-17T14:08:18.668356Z"
    }
   },
   "source": [
    "df.loc[df['Category'] == 'spam', 'Category',] = 0\n",
    "df.loc[df['Category'] == 'non-spam', 'Category',] = 1\n",
    "df.loc[df['Category'] == 'ham', 'Category',] = 1"
   ],
   "outputs": [],
   "execution_count": 14
  },
  {
   "cell_type": "code",
   "id": "8937bb7c",
   "metadata": {
    "ExecuteTime": {
     "end_time": "2024-12-17T14:08:20.318918Z",
     "start_time": "2024-12-17T14:08:20.297411Z"
    }
   },
   "source": [
    "df.head()"
   ],
   "outputs": [
    {
     "data": {
      "text/plain": [
       "  Category                                            Message\n",
       "0        1  Go until jurong point, crazy.. Available only ...\n",
       "1        1                      Ok lar... Joking wif u oni...\n",
       "2        0  Free entry in 2 a wkly comp to win FA Cup fina...\n",
       "3        1  U dun say so early hor... U c already then say...\n",
       "4        1  Nah I don't think he goes to usf, he lives aro..."
      ],
      "text/html": [
       "<div>\n",
       "<style scoped>\n",
       "    .dataframe tbody tr th:only-of-type {\n",
       "        vertical-align: middle;\n",
       "    }\n",
       "\n",
       "    .dataframe tbody tr th {\n",
       "        vertical-align: top;\n",
       "    }\n",
       "\n",
       "    .dataframe thead th {\n",
       "        text-align: right;\n",
       "    }\n",
       "</style>\n",
       "<table border=\"1\" class=\"dataframe\">\n",
       "  <thead>\n",
       "    <tr style=\"text-align: right;\">\n",
       "      <th></th>\n",
       "      <th>Category</th>\n",
       "      <th>Message</th>\n",
       "    </tr>\n",
       "  </thead>\n",
       "  <tbody>\n",
       "    <tr>\n",
       "      <th>0</th>\n",
       "      <td>1</td>\n",
       "      <td>Go until jurong point, crazy.. Available only ...</td>\n",
       "    </tr>\n",
       "    <tr>\n",
       "      <th>1</th>\n",
       "      <td>1</td>\n",
       "      <td>Ok lar... Joking wif u oni...</td>\n",
       "    </tr>\n",
       "    <tr>\n",
       "      <th>2</th>\n",
       "      <td>0</td>\n",
       "      <td>Free entry in 2 a wkly comp to win FA Cup fina...</td>\n",
       "    </tr>\n",
       "    <tr>\n",
       "      <th>3</th>\n",
       "      <td>1</td>\n",
       "      <td>U dun say so early hor... U c already then say...</td>\n",
       "    </tr>\n",
       "    <tr>\n",
       "      <th>4</th>\n",
       "      <td>1</td>\n",
       "      <td>Nah I don't think he goes to usf, he lives aro...</td>\n",
       "    </tr>\n",
       "  </tbody>\n",
       "</table>\n",
       "</div>"
      ]
     },
     "execution_count": 15,
     "metadata": {},
     "output_type": "execute_result"
    }
   ],
   "execution_count": 15
  },
  {
   "cell_type": "code",
   "id": "decf6fed",
   "metadata": {
    "ExecuteTime": {
     "end_time": "2024-12-17T14:08:23.696406Z",
     "start_time": "2024-12-17T14:08:23.688258Z"
    }
   },
   "source": [
    "X = df['Message']\n",
    "Y = df['Category']"
   ],
   "outputs": [],
   "execution_count": 16
  },
  {
   "cell_type": "code",
   "id": "7705df6a",
   "metadata": {
    "ExecuteTime": {
     "end_time": "2024-12-17T14:08:25.959718Z",
     "start_time": "2024-12-17T14:08:25.947536Z"
    }
   },
   "source": [
    "X"
   ],
   "outputs": [
    {
     "data": {
      "text/plain": [
       "0       Go until jurong point, crazy.. Available only ...\n",
       "1                           Ok lar... Joking wif u oni...\n",
       "2       Free entry in 2 a wkly comp to win FA Cup fina...\n",
       "3       U dun say so early hor... U c already then say...\n",
       "4       Nah I don't think he goes to usf, he lives aro...\n",
       "                              ...                        \n",
       "5567    This is the 2nd time we have tried 2 contact u...\n",
       "5568                 Will ü b going to esplanade fr home?\n",
       "5569    Pity, * was in mood for that. So...any other s...\n",
       "5570    The guy did some bitching but I acted like i'd...\n",
       "5571                           Rofl. Its true to its name\n",
       "Name: Message, Length: 5572, dtype: object"
      ]
     },
     "execution_count": 17,
     "metadata": {},
     "output_type": "execute_result"
    }
   ],
   "execution_count": 17
  },
  {
   "cell_type": "code",
   "id": "3f13d080",
   "metadata": {
    "ExecuteTime": {
     "end_time": "2024-12-14T13:50:16.351816Z",
     "start_time": "2024-12-14T13:50:16.338365Z"
    }
   },
   "source": [
    "Y"
   ],
   "outputs": [
    {
     "data": {
      "text/plain": [
       "0       1\n",
       "1       1\n",
       "2       0\n",
       "3       1\n",
       "4       1\n",
       "       ..\n",
       "5567    0\n",
       "5568    1\n",
       "5569    1\n",
       "5570    1\n",
       "5571    1\n",
       "Name: Category, Length: 5572, dtype: object"
      ]
     },
     "execution_count": 172,
     "metadata": {},
     "output_type": "execute_result"
    }
   ],
   "execution_count": 172
  },
  {
   "metadata": {
    "ExecuteTime": {
     "end_time": "2024-12-17T14:08:43.574580Z",
     "start_time": "2024-12-17T14:08:30.343907Z"
    }
   },
   "cell_type": "code",
   "source": [
    "from sklearn.model_selection import train_test_split\n",
    "from sklearn.feature_extraction.text import TfidfVectorizer\n",
    "from sklearn.metrics import accuracy_score"
   ],
   "id": "27138067e684b7e6",
   "outputs": [],
   "execution_count": 18
  },
  {
   "cell_type": "code",
   "id": "864701dd",
   "metadata": {
    "ExecuteTime": {
     "end_time": "2024-12-17T14:08:45.849248Z",
     "start_time": "2024-12-17T14:08:45.804399Z"
    }
   },
   "source": "X_train, X_test, y_train, y_test = train_test_split(X, Y, test_size=0.2, random_state=42)",
   "outputs": [],
   "execution_count": 19
  },
  {
   "cell_type": "code",
   "id": "a25cb53f",
   "metadata": {
    "ExecuteTime": {
     "end_time": "2024-12-14T13:50:21.357716Z",
     "start_time": "2024-12-14T13:50:21.340320Z"
    }
   },
   "source": "y_train",
   "outputs": [
    {
     "data": {
      "text/plain": [
       "1978    0\n",
       "3989    1\n",
       "3935    1\n",
       "4078    1\n",
       "4086    0\n",
       "       ..\n",
       "3772    1\n",
       "5191    1\n",
       "5226    1\n",
       "5390    1\n",
       "860     1\n",
       "Name: Category, Length: 4457, dtype: object"
      ]
     },
     "execution_count": 174,
     "metadata": {},
     "output_type": "execute_result"
    }
   ],
   "execution_count": 174
  },
  {
   "cell_type": "code",
   "id": "a6fecffe",
   "metadata": {
    "ExecuteTime": {
     "end_time": "2024-12-14T13:50:24.695699Z",
     "start_time": "2024-12-14T13:50:24.679295Z"
    }
   },
   "source": "y_train.shape",
   "outputs": [
    {
     "data": {
      "text/plain": [
       "(4457,)"
      ]
     },
     "execution_count": 175,
     "metadata": {},
     "output_type": "execute_result"
    }
   ],
   "execution_count": 175
  },
  {
   "cell_type": "code",
   "id": "042deb93",
   "metadata": {
    "ExecuteTime": {
     "end_time": "2024-12-14T10:00:05.788216Z",
     "start_time": "2024-12-14T10:00:05.781634Z"
    }
   },
   "source": [
    "X_test.shape"
   ],
   "outputs": [
    {
     "data": {
      "text/plain": [
       "(209715,)"
      ]
     },
     "execution_count": 31,
     "metadata": {},
     "output_type": "execute_result"
    }
   ],
   "execution_count": 31
  },
  {
   "cell_type": "code",
   "id": "c32c595b",
   "metadata": {
    "ExecuteTime": {
     "end_time": "2024-12-17T14:08:54.266462Z",
     "start_time": "2024-12-17T14:08:53.948103Z"
    }
   },
   "source": [
    "feature_extraction = TfidfVectorizer(min_df=1, stop_words=\"english\")\n",
    "X_train_features = feature_extraction.fit_transform(X_train)\n",
    "X_test_features = feature_extraction.transform(X_test)"
   ],
   "outputs": [],
   "execution_count": 20
  },
  {
   "cell_type": "code",
   "id": "67f8118b",
   "metadata": {
    "ExecuteTime": {
     "end_time": "2024-12-17T14:09:15.834818Z",
     "start_time": "2024-12-17T14:09:15.824933Z"
    }
   },
   "source": [
    "y_train = y_train.astype(\"int\")\n",
    "y_test = y_test.astype(\"int\")"
   ],
   "outputs": [],
   "execution_count": 21
  },
  {
   "cell_type": "code",
   "id": "4d9d6965",
   "metadata": {
    "ExecuteTime": {
     "end_time": "2024-12-14T12:10:47.765098Z",
     "start_time": "2024-12-14T12:10:47.643308Z"
    }
   },
   "source": [
    "print(X_train_features)"
   ],
   "outputs": [
    {
     "name": "stdout",
     "output_type": "stream",
     "text": [
      "<Compressed Sparse Row sparse matrix of dtype 'float64'\n",
      "\twith 5144148 stored elements and shape (838860, 79)>\n",
      "  Coords\tValues\n",
      "  (0, 71)\t0.4202756699064727\n",
      "  (0, 3)\t0.3418213077374314\n",
      "  (0, 59)\t0.4202756699064727\n",
      "  (0, 69)\t0.4202756699064727\n",
      "  (0, 72)\t0.4202756699064727\n",
      "  (0, 30)\t0.4202756699064727\n",
      "  (1, 27)\t0.3738254726361271\n",
      "  (1, 32)\t0.3738254726361271\n",
      "  (1, 33)\t0.2629561583829669\n",
      "  (1, 74)\t0.3738254726361271\n",
      "  (1, 10)\t0.3738254726361271\n",
      "  (1, 46)\t0.3738254726361271\n",
      "  (1, 64)\t0.3738254726361271\n",
      "  (1, 75)\t0.3039426834433246\n",
      "  (2, 33)\t0.3426462058989496\n",
      "  (2, 54)\t0.48742064158499954\n",
      "  (2, 18)\t0.48742064158499954\n",
      "  (2, 12)\t0.39633484536959446\n",
      "  (2, 11)\t0.30500865331530924\n",
      "  (2, 42)\t0.3966411799667689\n",
      "  (3, 75)\t0.3417225571074325\n",
      "  (3, 19)\t0.420291730578644\n",
      "  (3, 24)\t0.420291730578644\n",
      "  (3, 56)\t0.420291730578644\n",
      "  (3, 48)\t0.420291730578644\n",
      "  :\t:\n",
      "  (838856, 14)\t0.37654260785971744\n",
      "  (838856, 77)\t0.37654260785971744\n",
      "  (838856, 0)\t0.37654260785971744\n",
      "  (838856, 26)\t0.37654260785971744\n",
      "  (838856, 9)\t0.37654260785971744\n",
      "  (838856, 45)\t0.37654260785971744\n",
      "  (838857, 42)\t0.31494366977115235\n",
      "  (838857, 36)\t0.38747268395571655\n",
      "  (838857, 63)\t0.38747268395571655\n",
      "  (838857, 2)\t0.38747268395571655\n",
      "  (838857, 31)\t0.38747268395571655\n",
      "  (838857, 55)\t0.38747268395571655\n",
      "  (838857, 29)\t0.38747268395571655\n",
      "  (838858, 49)\t0.4030813241841629\n",
      "  (838858, 38)\t0.4030813241841629\n",
      "  (838858, 39)\t0.28350753963324166\n",
      "  (838858, 62)\t0.4030813241841629\n",
      "  (838858, 35)\t0.3274915349147435\n",
      "  (838858, 34)\t0.4030813241841629\n",
      "  (838858, 78)\t0.4030813241841629\n",
      "  (838859, 57)\t0.4472135954999579\n",
      "  (838859, 47)\t0.4472135954999579\n",
      "  (838859, 58)\t0.4472135954999579\n",
      "  (838859, 61)\t0.4472135954999579\n",
      "  (838859, 44)\t0.4472135954999579\n"
     ]
    }
   ],
   "execution_count": 72
  },
  {
   "metadata": {
    "ExecuteTime": {
     "end_time": "2024-12-17T14:16:21.183557Z",
     "start_time": "2024-12-17T14:16:21.040116Z"
    }
   },
   "cell_type": "code",
   "source": "X_train_dense = X_train_features.toarray()",
   "id": "dc99c53448ec8ea5",
   "outputs": [],
   "execution_count": 31
  },
  {
   "metadata": {
    "ExecuteTime": {
     "end_time": "2024-12-17T14:16:24.685803Z",
     "start_time": "2024-12-17T14:16:24.652562Z"
    }
   },
   "cell_type": "code",
   "source": "X_train_dense",
   "id": "7157950a80c2b484",
   "outputs": [
    {
     "data": {
      "text/plain": [
       "array([[0., 0., 0., ..., 0., 0., 0.],\n",
       "       [0., 0., 0., ..., 0., 0., 0.],\n",
       "       [0., 0., 0., ..., 0., 0., 0.],\n",
       "       ...,\n",
       "       [0., 0., 0., ..., 0., 0., 0.],\n",
       "       [0., 0., 0., ..., 0., 0., 0.],\n",
       "       [0., 0., 0., ..., 0., 0., 0.]])"
      ]
     },
     "execution_count": 32,
     "metadata": {},
     "output_type": "execute_result"
    }
   ],
   "execution_count": 32
  },
  {
   "cell_type": "code",
   "id": "20cbedd9",
   "metadata": {
    "ExecuteTime": {
     "end_time": "2024-12-17T14:57:36.876993Z",
     "start_time": "2024-12-17T14:57:36.180869Z"
    }
   },
   "source": [
    "from sklearn.linear_model import LogisticRegression\n",
    "from sklearn.naive_bayes import MultinomialNB\n",
    "\n",
    "model1 = LogisticRegression()\n",
    "model2 = MultinomialNB()"
   ],
   "outputs": [],
   "execution_count": 45
  },
  {
   "cell_type": "code",
   "id": "db00a849",
   "metadata": {
    "ExecuteTime": {
     "end_time": "2024-12-17T14:57:39.964502Z",
     "start_time": "2024-12-17T14:57:39.395333Z"
    }
   },
   "source": [
    "model1.fit(X_train_features, y_train)\n",
    "model2.fit(X_train_features, y_train)\n",
    "prediction_train_data = model1.predict(X_train_features)\n",
    "accuracy_train_data = accuracy_score(y_train, prediction_train_data)\n",
    "# model bayes\n",
    "prediction_train_data2 = model2.predict(X_train_features)\n",
    "accuracy_train_data2 = accuracy_score(y_train, prediction_train_data2)"
   ],
   "outputs": [],
   "execution_count": 46
  },
  {
   "metadata": {
    "ExecuteTime": {
     "end_time": "2024-12-17T14:57:42.908949Z",
     "start_time": "2024-12-17T14:57:42.895495Z"
    }
   },
   "cell_type": "code",
   "source": "print(\"Accuarcy on train data: \", accuracy_train_data2)\n",
   "id": "8dccd7955b5fc09b",
   "outputs": [
    {
     "name": "stdout",
     "output_type": "stream",
     "text": [
      "Accuarcy on train data:  0.9813776082566749\n"
     ]
    }
   ],
   "execution_count": 47
  },
  {
   "cell_type": "code",
   "id": "1a6b2d19",
   "metadata": {
    "ExecuteTime": {
     "end_time": "2024-12-17T14:09:30.645473Z",
     "start_time": "2024-12-17T14:09:30.636838Z"
    }
   },
   "source": [
    "print(\"Accuarcy on train data: \", accuracy_train_data)"
   ],
   "outputs": [
    {
     "name": "stdout",
     "output_type": "stream",
     "text": [
      "Accuarcy on train data:  0.9670181736594121\n"
     ]
    }
   ],
   "execution_count": 24
  },
  {
   "cell_type": "code",
   "id": "24b685f2",
   "metadata": {
    "ExecuteTime": {
     "end_time": "2024-12-17T14:09:37.172630Z",
     "start_time": "2024-12-17T14:09:37.159477Z"
    }
   },
   "source": [
    "prediction_test_data = model1.predict(X_test_features)\n",
    "accuracy_test_data = accuracy_score(y_test, prediction_test_data)"
   ],
   "outputs": [],
   "execution_count": 25
  },
  {
   "cell_type": "code",
   "id": "2207d645",
   "metadata": {
    "ExecuteTime": {
     "end_time": "2024-12-17T14:09:39.908578Z",
     "start_time": "2024-12-17T14:09:39.902988Z"
    }
   },
   "source": [
    "print(\"Accuarcy on test data: \", accuracy_test_data)"
   ],
   "outputs": [
    {
     "name": "stdout",
     "output_type": "stream",
     "text": [
      "Accuarcy on test data:  0.967713004484305\n"
     ]
    }
   ],
   "execution_count": 26
  },
  {
   "cell_type": "code",
   "id": "6214274f",
   "metadata": {
    "ExecuteTime": {
     "end_time": "2024-12-17T14:09:51.870551Z",
     "start_time": "2024-12-17T14:09:51.853283Z"
    }
   },
   "source": [
    "input_user_mail = [\n",
    "    \"REMINDER FROM O2: To get 2.50 pounds free call credit and details of great offers pls reply 2 this text with your valid name, house no and postcode\"]\n",
    "\n",
    "input_data_features = feature_extraction.transform(input_user_mail)\n",
    "\n",
    "prediction = model1.predict(input_data_features)\n",
    "\n",
    "if prediction[0] == 1:\n",
    "    print(\"This is a ham mail\")\n",
    "else:\n",
    "    print(\"This is a spam mail\")"
   ],
   "outputs": [
    {
     "name": "stdout",
     "output_type": "stream",
     "text": [
      "This is a spam mail\n"
     ]
    }
   ],
   "execution_count": 27
  },
  {
   "cell_type": "code",
   "id": "3e21749b",
   "metadata": {
    "ExecuteTime": {
     "end_time": "2024-12-17T14:10:02.974642Z",
     "start_time": "2024-12-17T14:10:02.956378Z"
    }
   },
   "source": [
    "import pickle\n",
    "\n",
    "pickle.dump(model1, open(\"logistic_regression.pkl\", \"wb\"))\n",
    "pickle.dump(feature_extraction, open(\"feature_extraction.pkl\", \"wb\"))"
   ],
   "outputs": [],
   "execution_count": 29
  }
 ],
 "metadata": {
  "kernelspec": {
   "display_name": "Python 3",
   "language": "python",
   "name": "python3"
  },
  "language_info": {
   "codemirror_mode": {
    "name": "ipython",
    "version": 3
   },
   "file_extension": ".py",
   "mimetype": "text/x-python",
   "name": "python",
   "nbconvert_exporter": "python",
   "pygments_lexer": "ipython3",
   "version": "3.8.5"
  }
 },
 "nbformat": 4,
 "nbformat_minor": 5
}
